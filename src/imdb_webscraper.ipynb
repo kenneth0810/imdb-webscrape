{
 "cells": [
  {
   "cell_type": "markdown",
   "id": "ddc20d80-3fed-45fb-b75d-e0e6642de9f8",
   "metadata": {},
   "source": [
    "# IMDb Webscraper for Top 250 Charts"
   ]
  },
  {
   "cell_type": "markdown",
   "id": "33871661-1b66-4ff3-80a7-59921591b14a",
   "metadata": {},
   "source": [
    "### In this project, we will be web scraping the top 250 movie charts for 3 different sorting options: rating, popularity, and ranking\n",
    "\n",
    "#### Here is a preview of the information we can scrape. Unfortunately, the movie genre(s) cannot be scraped from this\n",
    "![example](example-movie-card.png)"
   ]
  },
  {
   "cell_type": "markdown",
   "id": "cc117e9b-b21d-4eef-a6c9-b3b0cc5a54a4",
   "metadata": {},
   "source": [
    "## Scraping Data"
   ]
  },
  {
   "cell_type": "code",
   "execution_count": 2,
   "id": "74df8bdb-4e75-4492-9a1f-dc2ed48d372d",
   "metadata": {},
   "outputs": [],
   "source": [
    "from selenium import webdriver\n",
    "from selenium.webdriver.chrome.options import Options\n",
    "from selenium.webdriver.common.by import By\n",
    "from selenium.webdriver.support.ui import WebDriverWait\n",
    "from selenium.webdriver.support import expected_conditions as EC\n",
    "from bs4 import BeautifulSoup\n",
    "import time\n",
    "import json"
   ]
  },
  {
   "cell_type": "markdown",
   "id": "762f4a54-7421-4896-8538-e7bf84bb3f33",
   "metadata": {},
   "source": [
    "#### Use Selenium to open and retrieve html sources. Return a BeautifulSoup object with that html source\n",
    "Run the cell below again to retrieve the latest data. This may take a while as the page loading is quite slow"
   ]
  },
  {
   "cell_type": "code",
   "execution_count": 3,
   "id": "852405ad-10c0-41fa-b514-811b717e375e",
   "metadata": {},
   "outputs": [],
   "source": [
    "def get_html_source(url):\n",
    "    # add headers to prevent being perceived as a bot when making requests\n",
    "    options = Options()\n",
    "    options.add_argument(\"--headless\") # request url without opening browser\n",
    "    options.add_argument(\"referer=https://www.google.com\")\n",
    "    options.add_argument(\"user-agent=Mozilla/5.0 (Macintosh; Intel Mac OS X 10_15_7) AppleWebKit/537.36 (KHTML, like Gecko) Chrome/123.0.0.0 Safari/537.36\")\n",
    "    \n",
    "    driver = webdriver.Chrome(options=options)\n",
    "    driver.get(url)\n",
    "    \n",
    "    # clicking the button to list more information about the movies\n",
    "    wait = WebDriverWait(driver, 10)\n",
    "    button = wait.until(EC.element_to_be_clickable((By.ID, 'list-view-option-detailed')))\n",
    "    button.click()\n",
    "    \n",
    "    # scrolling down with a delay to ensure the whole document is loaded\n",
    "    driver.execute_script(\"window.scrollTo(0, document.body.scrollHeight);\")\n",
    "    time.sleep(1)\n",
    "\n",
    "    soup = BeautifulSoup(driver.page_source, 'html.parser')\n",
    "\n",
    "    driver.quit()\n",
    "\n",
    "    return soup"
   ]
  },
  {
   "cell_type": "code",
   "execution_count": 4,
   "id": "ac8bf5ea-352b-4352-ad9f-d4e4ca30e560",
   "metadata": {},
   "outputs": [],
   "source": [
    "urls = {\n",
    "    'imdb_rating': 'https://www.imdb.com/chart/top/?ref_=nv_mv_250&sort=user_rating%2Cdesc',\n",
    "    'popularity': 'https://www.imdb.com/chart/top/?ref_=nv_mv_250&sort=popularity%2Casc',\n",
    "    'ranking': 'https://www.imdb.com/chart/top/?ref_=nv_mv_250&sort=rank%2Casc',\n",
    "}\n",
    "\n",
    "rating_soup = get_html_source(urls['imdb_rating'])\n",
    "popularity_soup = get_html_source(urls['popularity'])\n",
    "ranking_soup = get_html_source(urls['ranking'])"
   ]
  },
  {
   "cell_type": "markdown",
   "id": "37ca67bc-b142-4c04-a5a4-ec1f3a0e7b20",
   "metadata": {},
   "source": [
    "#### Scrape and save the data locally to prevent repetitive requests\n",
    "We will write all the data into a json file for easy viewing"
   ]
  },
  {
   "cell_type": "code",
   "execution_count": 5,
   "id": "fdb371ea-6055-4db6-b1b7-83b724bd0541",
   "metadata": {},
   "outputs": [],
   "source": [
    "def scrape(soup):\n",
    "    ul = soup.find('ul', class_='ipc-metadata-list')\n",
    "    movie_list = []\n",
    "\n",
    "    for movie in ul:\n",
    "        position = int(movie.find('h3').text.split('. ')[0])\n",
    "        title = movie.find('h3').text.split('. ')[1]\n",
    "        info = {\n",
    "            'year': int(movie.find('div', class_='sc-b189961a-7').find_all('span')[0].text),\n",
    "            'length': movie.find('div', class_='sc-b189961a-7').find_all('span')[1].text,\n",
    "            'age_rating': movie.find('div', class_='sc-b189961a-7').find_all('span')[-1].text\n",
    "        }\n",
    "        # Some movies may have a blank field for age rating\n",
    "        if info['length'] == info['age_rating']:\n",
    "            info['age_rating'] = 'Not Rated'\n",
    "    \n",
    "        star_rating = float(movie.find('svg', class_='ipc-icon--star-inline').next_sibling)\n",
    "        number_of_ratings = movie.find('span', class_='ipc-rating-star--voteCount').text\n",
    "        director = movie.find('a', class_='ipc-link ipc-link--base dli-director-item').text\n",
    "        starring = [starring.text for starring in movie.find('div', class_='sc-ab6fa25a-1 bBwFsP').find_all('a', class_='ipc-link ipc-link--base dli-cast-item')]\n",
    "        \n",
    "        movie_list.append(\n",
    "            {\n",
    "                'position': position,\n",
    "                'title': title,\n",
    "                'year': info['year'],\n",
    "                'length': info['length'],\n",
    "                'age_rating': info['age_rating'],\n",
    "                'star_rating': star_rating,\n",
    "                'number_of_ratings': number_of_ratings,\n",
    "                'director': director,\n",
    "                'starring': starring\n",
    "            }\n",
    "        )\n",
    "    \n",
    "    data_json = json.dumps(movie_list, indent=4)\n",
    "    return data_json"
   ]
  },
  {
   "cell_type": "markdown",
   "id": "48681b01-4ca4-4768-834e-f1f40184310f",
   "metadata": {},
   "source": [
    "Make sure to check the json files to ensure all 250 movie data was recorded. If not, rerun the cell above, then rerun this cell below"
   ]
  },
  {
   "cell_type": "code",
   "execution_count": 6,
   "id": "244fee1e-b0b8-4066-9c49-ace4227e83d6",
   "metadata": {},
   "outputs": [],
   "source": [
    "with open('rating.json', 'w') as rating, open('popularity.json', 'w') as popularity, open('ranking.json', 'w') as ranking:\n",
    "    rating.write(scrape(rating_soup))\n",
    "    popularity.write(scrape(popularity_soup))\n",
    "    ranking.write(scrape(ranking_soup))"
   ]
  },
  {
   "cell_type": "markdown",
   "id": "e8247fd7-b072-48da-a71f-300331481fd7",
   "metadata": {},
   "source": [
    "# Analysis"
   ]
  },
  {
   "cell_type": "code",
   "execution_count": 7,
   "id": "02435d9c-d6d0-4f66-ab6a-21249bc3f645",
   "metadata": {},
   "outputs": [],
   "source": [
    "import pandas as pd\n",
    "import numpy as np\n",
    "import matplotlib.pyplot as plt"
   ]
  },
  {
   "cell_type": "markdown",
   "id": "dd6555bf-36f5-4b60-906b-129be6d7e0d9",
   "metadata": {},
   "source": [
    "#### Top 250 Movies by Rating"
   ]
  },
  {
   "cell_type": "code",
   "execution_count": 8,
   "id": "40fa509f-1b67-4fc7-ad0e-4c327cf2dfe0",
   "metadata": {},
   "outputs": [
    {
     "data": {
      "text/html": [
       "<div>\n",
       "<style scoped>\n",
       "    .dataframe tbody tr th:only-of-type {\n",
       "        vertical-align: middle;\n",
       "    }\n",
       "\n",
       "    .dataframe tbody tr th {\n",
       "        vertical-align: top;\n",
       "    }\n",
       "\n",
       "    .dataframe thead th {\n",
       "        text-align: right;\n",
       "    }\n",
       "</style>\n",
       "<table border=\"1\" class=\"dataframe\">\n",
       "  <thead>\n",
       "    <tr style=\"text-align: right;\">\n",
       "      <th></th>\n",
       "      <th>position</th>\n",
       "      <th>title</th>\n",
       "      <th>year</th>\n",
       "      <th>length</th>\n",
       "      <th>age_rating</th>\n",
       "      <th>star_rating</th>\n",
       "      <th>number_of_ratings</th>\n",
       "      <th>director</th>\n",
       "      <th>starring</th>\n",
       "    </tr>\n",
       "  </thead>\n",
       "  <tbody>\n",
       "    <tr>\n",
       "      <th>0</th>\n",
       "      <td>1</td>\n",
       "      <td>The Shawshank Redemption</td>\n",
       "      <td>1994</td>\n",
       "      <td>2h 22m</td>\n",
       "      <td>R</td>\n",
       "      <td>9.3</td>\n",
       "      <td>(2.9M)</td>\n",
       "      <td>Frank Darabont</td>\n",
       "      <td>[Tim Robbins, Morgan Freeman, Bob Gunton]</td>\n",
       "    </tr>\n",
       "    <tr>\n",
       "      <th>1</th>\n",
       "      <td>2</td>\n",
       "      <td>The Godfather</td>\n",
       "      <td>1972</td>\n",
       "      <td>2h 55m</td>\n",
       "      <td>R</td>\n",
       "      <td>9.2</td>\n",
       "      <td>(2M)</td>\n",
       "      <td>Francis Ford Coppola</td>\n",
       "      <td>[Marlon Brando, Al Pacino, James Caan]</td>\n",
       "    </tr>\n",
       "    <tr>\n",
       "      <th>2</th>\n",
       "      <td>3</td>\n",
       "      <td>The Dark Knight</td>\n",
       "      <td>2008</td>\n",
       "      <td>2h 32m</td>\n",
       "      <td>PG-13</td>\n",
       "      <td>9.0</td>\n",
       "      <td>(2.9M)</td>\n",
       "      <td>Christopher Nolan</td>\n",
       "      <td>[Christian Bale, Heath Ledger, Aaron Eckhart]</td>\n",
       "    </tr>\n",
       "    <tr>\n",
       "      <th>3</th>\n",
       "      <td>4</td>\n",
       "      <td>12th Fail</td>\n",
       "      <td>2023</td>\n",
       "      <td>2h 27m</td>\n",
       "      <td>Not Rated</td>\n",
       "      <td>9.0</td>\n",
       "      <td>(109K)</td>\n",
       "      <td>Vidhu Vinod Chopra</td>\n",
       "      <td>[Vikrant Massey, Medha Shankr, Anant Joshi]</td>\n",
       "    </tr>\n",
       "    <tr>\n",
       "      <th>4</th>\n",
       "      <td>5</td>\n",
       "      <td>Schindler's List</td>\n",
       "      <td>1993</td>\n",
       "      <td>3h 15m</td>\n",
       "      <td>R</td>\n",
       "      <td>9.0</td>\n",
       "      <td>(1.4M)</td>\n",
       "      <td>Steven Spielberg</td>\n",
       "      <td>[Liam Neeson, Ralph Fiennes, Ben Kingsley]</td>\n",
       "    </tr>\n",
       "  </tbody>\n",
       "</table>\n",
       "</div>"
      ],
      "text/plain": [
       "   position                     title  year  length age_rating  star_rating  \\\n",
       "0         1  The Shawshank Redemption  1994  2h 22m          R          9.3   \n",
       "1         2             The Godfather  1972  2h 55m          R          9.2   \n",
       "2         3           The Dark Knight  2008  2h 32m      PG-13          9.0   \n",
       "3         4                 12th Fail  2023  2h 27m  Not Rated          9.0   \n",
       "4         5          Schindler's List  1993  3h 15m          R          9.0   \n",
       "\n",
       "  number_of_ratings              director  \\\n",
       "0            (2.9M)        Frank Darabont   \n",
       "1              (2M)  Francis Ford Coppola   \n",
       "2            (2.9M)     Christopher Nolan   \n",
       "3            (109K)    Vidhu Vinod Chopra   \n",
       "4            (1.4M)      Steven Spielberg   \n",
       "\n",
       "                                        starring  \n",
       "0      [Tim Robbins, Morgan Freeman, Bob Gunton]  \n",
       "1         [Marlon Brando, Al Pacino, James Caan]  \n",
       "2  [Christian Bale, Heath Ledger, Aaron Eckhart]  \n",
       "3    [Vikrant Massey, Medha Shankr, Anant Joshi]  \n",
       "4     [Liam Neeson, Ralph Fiennes, Ben Kingsley]  "
      ]
     },
     "execution_count": 8,
     "metadata": {},
     "output_type": "execute_result"
    }
   ],
   "source": [
    "with open('rating.json', 'r') as rating:\n",
    "    rating_data = json.load(rating)\n",
    "\n",
    "df_rating = pd.DataFrame(rating_data)\n",
    "df_rating.head()"
   ]
  },
  {
   "cell_type": "markdown",
   "id": "88933332-95a1-468a-b9e1-ee05511bc80d",
   "metadata": {},
   "source": [
    "#### Top 250 Movies by Popularity"
   ]
  },
  {
   "cell_type": "code",
   "execution_count": 9,
   "id": "44048a51-66d7-4d28-bfd0-09ad66d08d9f",
   "metadata": {},
   "outputs": [
    {
     "data": {
      "text/html": [
       "<div>\n",
       "<style scoped>\n",
       "    .dataframe tbody tr th:only-of-type {\n",
       "        vertical-align: middle;\n",
       "    }\n",
       "\n",
       "    .dataframe tbody tr th {\n",
       "        vertical-align: top;\n",
       "    }\n",
       "\n",
       "    .dataframe thead th {\n",
       "        text-align: right;\n",
       "    }\n",
       "</style>\n",
       "<table border=\"1\" class=\"dataframe\">\n",
       "  <thead>\n",
       "    <tr style=\"text-align: right;\">\n",
       "      <th></th>\n",
       "      <th>position</th>\n",
       "      <th>title</th>\n",
       "      <th>year</th>\n",
       "      <th>length</th>\n",
       "      <th>age_rating</th>\n",
       "      <th>star_rating</th>\n",
       "      <th>number_of_ratings</th>\n",
       "      <th>director</th>\n",
       "      <th>starring</th>\n",
       "    </tr>\n",
       "  </thead>\n",
       "  <tbody>\n",
       "    <tr>\n",
       "      <th>0</th>\n",
       "      <td>1</td>\n",
       "      <td>Dune: Part Two</td>\n",
       "      <td>2024</td>\n",
       "      <td>2h 46m</td>\n",
       "      <td>PG-13</td>\n",
       "      <td>8.7</td>\n",
       "      <td>(338K)</td>\n",
       "      <td>Denis Villeneuve</td>\n",
       "      <td>[Timothée Chalamet, Zendaya, Rebecca Ferguson]</td>\n",
       "    </tr>\n",
       "    <tr>\n",
       "      <th>1</th>\n",
       "      <td>2</td>\n",
       "      <td>Oppenheimer</td>\n",
       "      <td>2023</td>\n",
       "      <td>3h</td>\n",
       "      <td>R</td>\n",
       "      <td>8.3</td>\n",
       "      <td>(716K)</td>\n",
       "      <td>Christopher Nolan</td>\n",
       "      <td>[Cillian Murphy, Emily Blunt, Matt Damon]</td>\n",
       "    </tr>\n",
       "    <tr>\n",
       "      <th>2</th>\n",
       "      <td>3</td>\n",
       "      <td>Godzilla Minus One</td>\n",
       "      <td>2023</td>\n",
       "      <td>2h 4m</td>\n",
       "      <td>PG-13</td>\n",
       "      <td>8.3</td>\n",
       "      <td>(48K)</td>\n",
       "      <td>Takashi Yamazaki</td>\n",
       "      <td>[Minami Hamabe, Sakura Andô, Ryunosuke Kamiki]</td>\n",
       "    </tr>\n",
       "    <tr>\n",
       "      <th>3</th>\n",
       "      <td>4</td>\n",
       "      <td>Interstellar</td>\n",
       "      <td>2014</td>\n",
       "      <td>2h 49m</td>\n",
       "      <td>PG-13</td>\n",
       "      <td>8.7</td>\n",
       "      <td>(2.1M)</td>\n",
       "      <td>Christopher Nolan</td>\n",
       "      <td>[Matthew McConaughey, Anne Hathaway, Jessica C...</td>\n",
       "    </tr>\n",
       "    <tr>\n",
       "      <th>4</th>\n",
       "      <td>5</td>\n",
       "      <td>The Shawshank Redemption</td>\n",
       "      <td>1994</td>\n",
       "      <td>2h 22m</td>\n",
       "      <td>R</td>\n",
       "      <td>9.3</td>\n",
       "      <td>(2.9M)</td>\n",
       "      <td>Frank Darabont</td>\n",
       "      <td>[Tim Robbins, Morgan Freeman, Bob Gunton]</td>\n",
       "    </tr>\n",
       "  </tbody>\n",
       "</table>\n",
       "</div>"
      ],
      "text/plain": [
       "   position                     title  year  length age_rating  star_rating  \\\n",
       "0         1            Dune: Part Two  2024  2h 46m      PG-13          8.7   \n",
       "1         2               Oppenheimer  2023      3h          R          8.3   \n",
       "2         3        Godzilla Minus One  2023   2h 4m      PG-13          8.3   \n",
       "3         4              Interstellar  2014  2h 49m      PG-13          8.7   \n",
       "4         5  The Shawshank Redemption  1994  2h 22m          R          9.3   \n",
       "\n",
       "  number_of_ratings           director  \\\n",
       "0            (338K)   Denis Villeneuve   \n",
       "1            (716K)  Christopher Nolan   \n",
       "2             (48K)   Takashi Yamazaki   \n",
       "3            (2.1M)  Christopher Nolan   \n",
       "4            (2.9M)     Frank Darabont   \n",
       "\n",
       "                                            starring  \n",
       "0     [Timothée Chalamet, Zendaya, Rebecca Ferguson]  \n",
       "1          [Cillian Murphy, Emily Blunt, Matt Damon]  \n",
       "2     [Minami Hamabe, Sakura Andô, Ryunosuke Kamiki]  \n",
       "3  [Matthew McConaughey, Anne Hathaway, Jessica C...  \n",
       "4          [Tim Robbins, Morgan Freeman, Bob Gunton]  "
      ]
     },
     "execution_count": 9,
     "metadata": {},
     "output_type": "execute_result"
    }
   ],
   "source": [
    "with open('popularity.json', 'r') as popularity:\n",
    "    popularity_data = json.load(popularity)\n",
    "\n",
    "df_popularity = pd.DataFrame(popularity_data)\n",
    "df_popularity.head()"
   ]
  },
  {
   "cell_type": "markdown",
   "id": "a35c4ab5-8264-4f1e-b892-8c781879cdaa",
   "metadata": {},
   "source": [
    "#### Comparing top rated vs most popular movies by the decades"
   ]
  },
  {
   "cell_type": "code",
   "execution_count": 10,
   "id": "78b0e52a-cf26-4d0b-ae2d-59f094bc5504",
   "metadata": {},
   "outputs": [
    {
     "data": {
      "image/png": "[encoded data removed]",
      "text/plain": [
       "<Figure size 1080x360 with 2 Axes>"
      ]
     },
     "metadata": {
      "needs_background": "light"
     },
     "output_type": "display_data"
    },
    {
     "name": "stdout",
     "output_type": "stream",
     "text": [
      "The top rated movies were made in the 2000s\n",
      "The most popular movies as of now were made in the 2000s\n"
     ]
    }
   ],
   "source": [
    "top_rated_years = df_rating['year']\n",
    "most_popular_years = df_popularity['year']\n",
    "\n",
    "top_rated_decade = top_rated_years // 10 * 10\n",
    "most_popular_decade = most_popular_years // 10 * 10\n",
    "\n",
    "tr_decade_freq = top_rated_decade.value_counts().sort_index()\n",
    "mp_decade_freq = most_popular_decade.value_counts().sort_index()\n",
    "\n",
    "fig, (ax1, ax2) = plt.subplots(1, 2, figsize=(15,5))\n",
    "tr_decade_freq.plot(kind='bar', title='Top Rated Movies by Decade', xlabel='Decade', ylabel='Number of Movies', ax=ax1)\n",
    "mp_decade_freq.plot(kind='bar', title='Most Popular Movies by Decade', xlabel='Decade', ylabel='Number of Movies', ax=ax2)\n",
    "plt.show()\n",
    "\n",
    "print(f'The top rated movies were made in the {top_rated_decade.value_counts().keys()[0]}s')\n",
    "print(f'The most popular movies as of now were made in the {most_popular_decade.value_counts().keys()[0]}s')"
   ]
  },
  {
   "cell_type": "markdown",
   "id": "60627cde-8b13-48da-a5d2-3e9eef0ee453",
   "metadata": {},
   "source": [
    "#### Comparing age ratings in top rated vs most popular movies"
   ]
  },
  {
   "cell_type": "code",
   "execution_count": 11,
   "id": "ebbe7697-09e8-4d21-8dc1-60f85425cc67",
   "metadata": {},
   "outputs": [
    {
     "data": {
      "image/png": "[encoded data removed]",
      "text/plain": [
       "<Figure size 1080x360 with 2 Axes>"
      ]
     },
     "metadata": {
      "needs_background": "light"
     },
     "output_type": "display_data"
    },
    {
     "name": "stdout",
     "output_type": "stream",
     "text": [
      "The top rated movies are mostly R rated\n",
      "The most popular movies are mostly R rated\n"
     ]
    }
   ],
   "source": [
    "top_age = df_rating['age_rating'].value_counts()\n",
    "popular_age = df_popularity['age_rating'].value_counts()\n",
    "\n",
    "fig, (ax1, ax2) = plt.subplots(1, 2, figsize=(15,5))\n",
    "top_age.plot(kind='bar', title='Top Rated Movies by Age Ratings', xlabel='Age Rating', ylabel='Number of Movies', ax=ax1)\n",
    "popular_age.plot(kind='bar', title='Most Popular Movies by Age Ratings', xlabel='Age Rating', ylabel='Number of Movies', ax=ax2)\n",
    "plt.show()\n",
    "\n",
    "print(f'The top rated movies are mostly {top_age.keys()[0]} rated')\n",
    "print(f'The most popular movies are mostly {popular_age.keys()[0]} rated')"
   ]
  },
  {
   "cell_type": "markdown",
   "id": "80f48d5f-ea8c-47de-9ede-6db35e92127d",
   "metadata": {},
   "source": [
    "#### Comparing directors in top rated vs most popular movies"
   ]
  },
  {
   "cell_type": "code",
   "execution_count": 12,
   "id": "31c0127d-0306-48f6-a37b-b774a0528a6c",
   "metadata": {},
   "outputs": [
    {
     "name": "stdout",
     "output_type": "stream",
     "text": [
      "The top 5 directors for the top rated movies are: \n",
      "1. Christopher Nolan\n",
      "2. Martin Scorsese\n",
      "3. Stanley Kubrick\n",
      "4. Steven Spielberg\n",
      "5. Akira Kurosawa\n",
      "\n",
      "The top 5 directors for the most popular movies are: \n",
      "1. Christopher Nolan\n",
      "2. Stanley Kubrick\n",
      "3. Steven Spielberg\n",
      "4. Martin Scorsese\n",
      "5. Akira Kurosawa\n"
     ]
    }
   ],
   "source": [
    "top_director = df_rating['director']\n",
    "popular_director = df_popularity['director']\n",
    "\n",
    "print('The top 5 directors for the top rated movies are: ')\n",
    "for i in range(5):\n",
    "    print(f'{i+1}. {top_director.value_counts().keys()[i]}')\n",
    "\n",
    "print('\\nThe top 5 directors for the most popular movies are: ')\n",
    "for i in range(5):\n",
    "    print(f'{i+1}. {popular_director.value_counts().keys()[i]}')"
   ]
  },
  {
   "cell_type": "markdown",
   "id": "f9c9cba5-95d1-4dfe-847c-882dccfe15ac",
   "metadata": {},
   "source": [
    "#### Comparing starring casts in top rated vs most popular movies"
   ]
  },
  {
   "cell_type": "code",
   "execution_count": 13,
   "id": "a45d769c-8e49-4b6c-b5c7-d69db00909a2",
   "metadata": {},
   "outputs": [
    {
     "name": "stdout",
     "output_type": "stream",
     "text": [
      "The top 5 starring casts for the top rated movies are: \n",
      "1. Robert De Niro\n",
      "2. Leonardo DiCaprio\n",
      "3. Tom Hanks\n",
      "4. Harrison Ford\n",
      "5. Clint Eastwood\n",
      "\n",
      "The top 5 starring casts for the most popular movies are: \n",
      "1. Robert De Niro\n",
      "2. Leonardo DiCaprio\n",
      "3. Tom Hanks\n",
      "4. Harrison Ford\n",
      "5. Clint Eastwood\n"
     ]
    }
   ],
   "source": [
    "# convert the starring items to a list\n",
    "top_stars = df_rating['starring']\n",
    "popular_stars = df_popularity['starring']\n",
    "\n",
    "top_stars = [star for sublist in top_stars for star in sublist]\n",
    "popular_stars = [star for sublist in popular_stars for star in sublist]\n",
    "\n",
    "df_top_stars = pd.DataFrame(top_stars)\n",
    "df_popular_stars = pd.DataFrame(popular_stars)\n",
    "\n",
    "print('The top 5 starring casts for the top rated movies are: ')\n",
    "for i in range(5):\n",
    "    print(f'{i+1}. {df_top_stars.value_counts().keys()[i][0]}')\n",
    "\n",
    "print('\\nThe top 5 starring casts for the most popular movies are: ')\n",
    "for i in range(5):\n",
    "    print(f'{i+1}. {df_popular_stars.value_counts().keys()[i][0]}')"
   ]
  },
  {
   "cell_type": "markdown",
   "id": "8312a9bf-c126-44e1-92b1-34cfd140b26c",
   "metadata": {},
   "source": [
    "Comparison of release dates, age ratings, directors, and starring casts all looked identical for both of the 250 top rated and most popular movies charts. We can infer that most, if not all, of the top rated movies are also the most popular movies out there as of today."
   ]
  }
 ],
 "metadata": {
  "kernelspec": {
   "display_name": "Python 3 (ipykernel)",
   "language": "python",
   "name": "python3"
  },
  "language_info": {
   "codemirror_mode": {
    "name": "ipython",
    "version": 3
   },
   "file_extension": ".py",
   "mimetype": "text/x-python",
   "name": "python",
   "nbconvert_exporter": "python",
   "pygments_lexer": "ipython3",
   "version": "3.10.0"
  }
 },
 "nbformat": 4,
 "nbformat_minor": 5
}
